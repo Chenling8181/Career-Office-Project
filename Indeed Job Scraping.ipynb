{
 "cells": [
  {
   "cell_type": "markdown",
   "metadata": {},
   "source": [
    "# Indeed Job Scraper\n",
    "\n",
    "### How it works:\n",
    "\n",
    "You provide a set of standard input parameters: \n",
    "- **search query**\n",
    "- **location**\n",
    "\n",
    "in addition to two non-standard paramaters: \n",
    "- **ordered_keywords**: Job roles are rated based on this ordered list. This is a list of keywords to search for in job descriptions provided in order of preference. \n",
    "- **exclude_keywords**: A list of keywords to search for in a job _title_ which renders the rating of that job zero. E.g. if you really hate roles as a recruiter you would include: \"Recruitment\" or \"Headhunter\"\n",
    "- **title_keywords**: A list of keywords to search for in a job _title_ which, if matched for, increase the normalised rating. (Has precedence over \"ordered_keywords\")\n",
    "- **pages**: Number of Indeed pages to search. (Maximum that Indeed provides is 100)\n",
    "\n",
    "The web scraper searches through all the indeed job listings with those paramaters and returns a dataframe containing all the listings ordered by the \"rating\" metric based on the ordered list of keywords.\n",
    "\n",
    "You can also then output this dataframe as an excel sheet for convenience. "
   ]
  },
  {
   "cell_type": "code",
   "execution_count": 105,
   "metadata": {},
   "outputs": [],
   "source": [
    "# Imports\n",
    "from bs4 import BeautifulSoup\n",
    "import requests, json\n",
    "import pandas as pd\n",
    "from selenium import webdriver\n",
    "import re"
   ]
  },
  {
   "cell_type": "code",
   "execution_count": 106,
   "metadata": {},
   "outputs": [],
   "source": [
    "# Scraping parameters\n",
    "default_parameters = {\n",
    "    'search_query':'Quantitative Analyst',\n",
    "    'location':'New York',\n",
    "    'miles':50,\n",
    "    'ordered_keywords':['Investment','Banking','Finance','Hedge','Python','Fintech','SQL','Analysis','Modelling'],\n",
    "    'exclude_keywords':['Recruitment','Headhunter','Manager','Director','Senior'],\n",
    "    'title_keywords':['Graduate','Junior'],\n",
    "    'pages':1 \n",
    "}"
   ]
  },
  {
   "cell_type": "code",
   "execution_count": 107,
   "metadata": {},
   "outputs": [],
   "source": [
    "def create_url(parameters):\n",
    "    # create base url for all further searches\n",
    "    what = parameters['search_query'].replace(\" \",\"+\")\n",
    "    where = parameters['location'].replace(\" \",\"+\")\n",
    "    base_url = f\"https://www.indeed.com/jobs?q={what}&l={where}\"\n",
    "    return base_url"
   ]
  },
  {
   "cell_type": "code",
   "execution_count": 108,
   "metadata": {},
   "outputs": [],
   "source": [
    "def rate_job(j_title, j_soup, parameters):\n",
    "    # rate job by keywords\n",
    "    description = j_soup.find(id=\"jobDescriptionText\").get_text()\n",
    "    keywords = parameters['ordered_keywords']\n",
    "    title_keywords = parameters['title_keywords']\n",
    "    exclude_keywords = parameters['exclude_keywords']\n",
    "    total_keywords = len(keywords) + len(title_keywords)\n",
    "    keywords_present = []\n",
    "    title_keywords_present = []\n",
    "    rating = 0\n",
    "    \n",
    "    # Check for keyword, add value to rating depending on ranking\n",
    "    for index,keyword in enumerate(keywords):\n",
    "        if keyword in description:\n",
    "            rating += len(keywords) - index\n",
    "            keywords_present.append(keyword)\n",
    "    \n",
    "    # Check for title keywords\n",
    "    for index,keyword in enumerate(title_keywords):\n",
    "        if keyword in j_title:\n",
    "            rating += total_keywords - index\n",
    "            title_keywords_present.append(keyword)\n",
    "    \n",
    "    # Normalise rating\n",
    "    rating = rating/sum(range(1,total_keywords+1))\n",
    "    \n",
    "    # Check for excluded keywords\n",
    "    for keyword in exclude_keywords:\n",
    "        if keyword in j_title:\n",
    "            rating = 0\n",
    "            break\n",
    "    \n",
    "    return description,rating,keywords_present,title_keywords_present"
   ]
  },
  {
   "cell_type": "code",
   "execution_count": 116,
   "metadata": {},
   "outputs": [],
   "source": [
    "def get_job_details(job,parameters):\n",
    "    \n",
    "    # Get link and title\n",
    "    job_url = job.get('href')\n",
    "    \n",
    "    # Correct for truncated URLs\n",
    "    job_url = \"https://www.indeed.com\" + job_url if (job_url.startswith(\"/\")) else job_url\n",
    "    driver = webdriver.Chrome()\n",
    "    driver.get(job_url)\n",
    "    job_page = driver.page_source\n",
    "    job_soup = BeautifulSoup(job_page,'html.parser')\n",
    "    \n",
    "    \n",
    "    # Get job title and company name\n",
    "    title = job.get_text()\n",
    "    company = job_soup.find('div', attrs={\"data-company-name\": \"true\"}).get_text()\n",
    "    \n",
    "    # Get description, rating and present keywords\n",
    "    description, rating, keywords_present, title_keywords_present = rate_job(title,job_soup,parameters)\n",
    "    \n",
    "    return title, company, job_url, description, rating, keywords_present, title_keywords_present"
   ]
  },
  {
   "cell_type": "code",
   "execution_count": 110,
   "metadata": {},
   "outputs": [],
   "source": [
    "def scrape(parameters):\n",
    "    \n",
    "    # Create base url for all further searches\n",
    "    base_url = create_url(parameters)\n",
    "    \n",
    "    # Output list and frame\n",
    "    output = []\n",
    "    \n",
    "    for x in range(0,parameters['pages']):\n",
    "        if(x==0):\n",
    "            page_append = \"\"\n",
    "        else: \n",
    "            page_append = \"&start=\" + str(x*10)\n",
    "            \n",
    "        # get page\n",
    "        driver = webdriver.Chrome()\n",
    "        driver.get(base_url+page_append)\n",
    "        current_page = driver.page_source\n",
    "        page_soup = BeautifulSoup(current_page,\"html.parser\")\n",
    "        \n",
    "        for job in page_soup.find_all('a', class_=re.compile(\"JobTitle\")):\n",
    "            title, company, url, description, rating, keywords_present, title_keywords_present = get_job_details(job,parameters)\n",
    "            output.append([rating,title,company,description,url,keywords_present,title_keywords_present,x+1])\n",
    "            \n",
    "        print(f\"Page {x+1} completed\",end=\"\\r\")\n",
    "        \n",
    "    df_output_frame = pd.DataFrame(\n",
    "        output,columns=['Rating','Job Title','Company','Description','Job URL','Keywords Present','Title Keywords','Page Found']).sort_values(\n",
    "        by='Rating',ascending=False).reset_index(drop=True)\n",
    "\n",
    "    return df_output_frame\n",
    "        "
   ]
  },
  {
   "cell_type": "code",
   "execution_count": 117,
   "metadata": {
    "scrolled": false
   },
   "outputs": [
    {
     "name": "stdout",
     "output_type": "stream",
     "text": [
      "Page 1 completed\r"
     ]
    }
   ],
   "source": [
    "jobs = scrape(default_parameters)"
   ]
  },
  {
   "cell_type": "code",
   "execution_count": 118,
   "metadata": {},
   "outputs": [
    {
     "data": {
      "text/html": [
       "<div>\n",
       "<style scoped>\n",
       "    .dataframe tbody tr th:only-of-type {\n",
       "        vertical-align: middle;\n",
       "    }\n",
       "\n",
       "    .dataframe tbody tr th {\n",
       "        vertical-align: top;\n",
       "    }\n",
       "\n",
       "    .dataframe thead th {\n",
       "        text-align: right;\n",
       "    }\n",
       "</style>\n",
       "<table border=\"1\" class=\"dataframe\">\n",
       "  <thead>\n",
       "    <tr style=\"text-align: right;\">\n",
       "      <th></th>\n",
       "      <th>Rating</th>\n",
       "      <th>Job Title</th>\n",
       "      <th>Company</th>\n",
       "      <th>Description</th>\n",
       "      <th>Job URL</th>\n",
       "      <th>Keywords Present</th>\n",
       "      <th>Title Keywords</th>\n",
       "      <th>Page Found</th>\n",
       "    </tr>\n",
       "  </thead>\n",
       "  <tbody>\n",
       "    <tr>\n",
       "      <th>0</th>\n",
       "      <td>0.333333</td>\n",
       "      <td>2025 Summer Analyst Program - Global Markets (...</td>\n",
       "      <td>UBS</td>\n",
       "      <td>\\n\\n\\n\\n    United States - New York\\n   \\n\\n\\...</td>\n",
       "      <td>https://www.indeed.com/rc/clk?jk=5fd25119fd4cf...</td>\n",
       "      <td>[Investment, Banking, Python]</td>\n",
       "      <td>[]</td>\n",
       "      <td>1</td>\n",
       "    </tr>\n",
       "    <tr>\n",
       "      <th>1</th>\n",
       "      <td>0.287879</td>\n",
       "      <td>Quantitative Investment Analyst</td>\n",
       "      <td>Bank of America</td>\n",
       "      <td>\\nJob Description:\\n\\n At Bank of America, we ...</td>\n",
       "      <td>https://www.indeed.com/rc/clk?jk=9cf4bdd5b8e16...</td>\n",
       "      <td>[Investment, Python, SQL, Analysis]</td>\n",
       "      <td>[]</td>\n",
       "      <td>1</td>\n",
       "    </tr>\n",
       "    <tr>\n",
       "      <th>2</th>\n",
       "      <td>0.257576</td>\n",
       "      <td>Quantitative Analyst</td>\n",
       "      <td>Citi</td>\n",
       "      <td>\\nCitigroup Global Markets Inc. seeks a Quanti...</td>\n",
       "      <td>https://www.indeed.com/rc/clk?jk=7873ecc4d9dfa...</td>\n",
       "      <td>[Finance, Python, SQL, Analysis]</td>\n",
       "      <td>[]</td>\n",
       "      <td>1</td>\n",
       "    </tr>\n",
       "    <tr>\n",
       "      <th>3</th>\n",
       "      <td>0.257576</td>\n",
       "      <td>Quantitative Analyst</td>\n",
       "      <td>Citi</td>\n",
       "      <td>\\nCitigroup Global Markets Inc. seeks a Quanti...</td>\n",
       "      <td>https://www.indeed.com/rc/clk?jk=7a7bbf79448c5...</td>\n",
       "      <td>[Finance, Python, SQL, Analysis]</td>\n",
       "      <td>[]</td>\n",
       "      <td>1</td>\n",
       "    </tr>\n",
       "    <tr>\n",
       "      <th>4</th>\n",
       "      <td>0.257576</td>\n",
       "      <td>Quantitative Analyst</td>\n",
       "      <td>American Century Investments</td>\n",
       "      <td>\\n\\n  Our Firm\\n \\n\\n   American Century Inves...</td>\n",
       "      <td>https://www.indeed.com/rc/clk?jk=d54ee97f1fdab...</td>\n",
       "      <td>[Investment, Python, SQL]</td>\n",
       "      <td>[]</td>\n",
       "      <td>1</td>\n",
       "    </tr>\n",
       "  </tbody>\n",
       "</table>\n",
       "</div>"
      ],
      "text/plain": [
       "     Rating                                          Job Title  \\\n",
       "0  0.333333  2025 Summer Analyst Program - Global Markets (...   \n",
       "1  0.287879                    Quantitative Investment Analyst   \n",
       "2  0.257576                               Quantitative Analyst   \n",
       "3  0.257576                               Quantitative Analyst   \n",
       "4  0.257576                               Quantitative Analyst   \n",
       "\n",
       "                        Company  \\\n",
       "0                           UBS   \n",
       "1               Bank of America   \n",
       "2                          Citi   \n",
       "3                          Citi   \n",
       "4  American Century Investments   \n",
       "\n",
       "                                         Description  \\\n",
       "0  \\n\\n\\n\\n    United States - New York\\n   \\n\\n\\...   \n",
       "1  \\nJob Description:\\n\\n At Bank of America, we ...   \n",
       "2  \\nCitigroup Global Markets Inc. seeks a Quanti...   \n",
       "3  \\nCitigroup Global Markets Inc. seeks a Quanti...   \n",
       "4  \\n\\n  Our Firm\\n \\n\\n   American Century Inves...   \n",
       "\n",
       "                                             Job URL  \\\n",
       "0  https://www.indeed.com/rc/clk?jk=5fd25119fd4cf...   \n",
       "1  https://www.indeed.com/rc/clk?jk=9cf4bdd5b8e16...   \n",
       "2  https://www.indeed.com/rc/clk?jk=7873ecc4d9dfa...   \n",
       "3  https://www.indeed.com/rc/clk?jk=7a7bbf79448c5...   \n",
       "4  https://www.indeed.com/rc/clk?jk=d54ee97f1fdab...   \n",
       "\n",
       "                      Keywords Present Title Keywords  Page Found  \n",
       "0        [Investment, Banking, Python]             []           1  \n",
       "1  [Investment, Python, SQL, Analysis]             []           1  \n",
       "2     [Finance, Python, SQL, Analysis]             []           1  \n",
       "3     [Finance, Python, SQL, Analysis]             []           1  \n",
       "4            [Investment, Python, SQL]             []           1  "
      ]
     },
     "metadata": {},
     "output_type": "display_data"
    }
   ],
   "source": [
    "display(jobs.head())"
   ]
  },
  {
   "cell_type": "markdown",
   "metadata": {},
   "source": [
    "# Output to Excel"
   ]
  },
  {
   "cell_type": "code",
   "execution_count": 132,
   "metadata": {
    "scrolled": false
   },
   "outputs": [],
   "source": [
    "with pd.ExcelWriter('Excel Output.xlsx', engine='openpyxl') as writer:\n",
    "    jobs.to_excel(writer, index=False)"
   ]
  }
 ],
 "metadata": {
  "kernelspec": {
   "display_name": "Python 3",
   "language": "python",
   "name": "python3"
  },
  "language_info": {
   "codemirror_mode": {
    "name": "ipython",
    "version": 3
   },
   "file_extension": ".py",
   "mimetype": "text/x-python",
   "name": "python",
   "nbconvert_exporter": "python",
   "pygments_lexer": "ipython3",
   "version": "3.10.7"
  },
  "varInspector": {
   "cols": {
    "lenName": 16,
    "lenType": 16,
    "lenVar": 40
   },
   "kernels_config": {
    "python": {
     "delete_cmd_postfix": "",
     "delete_cmd_prefix": "del ",
     "library": "var_list.py",
     "varRefreshCmd": "print(var_dic_list())"
    },
    "r": {
     "delete_cmd_postfix": ") ",
     "delete_cmd_prefix": "rm(",
     "library": "var_list.r",
     "varRefreshCmd": "cat(var_dic_list()) "
    }
   },
   "types_to_exclude": [
    "module",
    "function",
    "builtin_function_or_method",
    "instance",
    "_Feature"
   ],
   "window_display": false
  }
 },
 "nbformat": 4,
 "nbformat_minor": 2
}
